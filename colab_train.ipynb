{
 "cells": [
  {
   "cell_type": "code",
   "execution_count": null,
   "id": "92248807",
   "metadata": {},
   "outputs": [],
   "source": [
    "!git clone https://github.com/neiths/transformers.git"
   ]
  },
  {
   "cell_type": "code",
   "execution_count": 1,
   "id": "a929693b",
   "metadata": {},
   "outputs": [],
   "source": [
    "%load_ext tensorboard"
   ]
  },
  {
   "cell_type": "code",
   "execution_count": null,
   "id": "60855048",
   "metadata": {},
   "outputs": [],
   "source": [
    "%%capture\n",
    "!pip install datasets\n",
    "!pip install tokenizers\n",
    "!pip install torchmetrics"
   ]
  },
  {
   "cell_type": "code",
   "execution_count": null,
   "id": "a3e919d1",
   "metadata": {},
   "outputs": [],
   "source": [
    "%%capture\n",
    "%cd /content/pytorch-transformer"
   ]
  },
  {
   "cell_type": "code",
   "execution_count": null,
   "id": "8fbd799e",
   "metadata": {},
   "outputs": [],
   "source": [
    "%tensorboard --logdir runs"
   ]
  },
  {
   "cell_type": "code",
   "execution_count": null,
   "id": "86cc7df6",
   "metadata": {},
   "outputs": [],
   "source": [
    "!mkdir -p /content/drive/MyDrive/Models/pytorch-transformer/weights\n",
    "!mkdir -p /content/drive/MyDrive/Models/pytorch-transformer/vocab"
   ]
  },
  {
   "cell_type": "code",
   "execution_count": null,
   "id": "91adf69e",
   "metadata": {},
   "outputs": [],
   "source": [
    "from config import get_config\n",
    "cfg = get_config()\n",
    "cfg['model_folder'] = '..//drive/MyDrive/Models/pytorch-transformer/weights'\n",
    "cfg['tokenizer_file'] = '..//drive/MyDrive/Models/pytorch-transformer/vocab/tokenizer_{0}.json'\n",
    "cfg['batch_size'] = 24\n",
    "cfg['num_epochs'] = 100\n",
    "cfg['preload'] = None\n",
    "\n",
    "from train import train_model\n",
    "\n",
    "train_model(cfg)"
   ]
  }
 ],
 "metadata": {
  "kernelspec": {
   "display_name": "venv",
   "language": "python",
   "name": "python3"
  },
  "language_info": {
   "codemirror_mode": {
    "name": "ipython",
    "version": 3
   },
   "file_extension": ".py",
   "mimetype": "text/x-python",
   "name": "python",
   "nbconvert_exporter": "python",
   "pygments_lexer": "ipython3",
   "version": "3.12.3"
  }
 },
 "nbformat": 4,
 "nbformat_minor": 5
}
